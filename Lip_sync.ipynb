{
  "nbformat": 4,
  "nbformat_minor": 0,
  "metadata": {
    "colab": {
      "provenance": [],
      "gpuType": "T4",
      "authorship_tag": "ABX9TyMdY47acfxD6Tz43YBUBzMj",
      "include_colab_link": true
    },
    "kernelspec": {
      "name": "python3",
      "display_name": "Python 3"
    },
    "language_info": {
      "name": "python"
    },
    "accelerator": "GPU"
  },
  "cells": [
    {
      "cell_type": "markdown",
      "metadata": {
        "id": "view-in-github",
        "colab_type": "text"
      },
      "source": [
        "<a href=\"https://colab.research.google.com/github/zeel-04/Wav2lip/blob/main/Lip_sync.ipynb\" target=\"_parent\"><img src=\"https://colab.research.google.com/assets/colab-badge.svg\" alt=\"Open In Colab\"/></a>"
      ]
    },
    {
      "cell_type": "markdown",
      "source": [
        "# Set up Wav2lip library"
      ],
      "metadata": {
        "id": "L0EDGAkodfId"
      }
    },
    {
      "cell_type": "code",
      "source": [
        "# cloning the github repo\n",
        "!git clone https://github.com/zabique/Wav2Lip\n",
        "\n",
        "# downloading the pretrained model\n",
        "!wget \"https://iiitaphyd-my.sharepoint.com/personal/radrabha_m_research_iiit_ac_in/_layouts/15/download.aspx?share=EdjI7bZlgApMqsVoEUUXpLsBxqXbn5z8VTmoxp55YNDcIA\" -O '/content/Wav2Lip/checkpoints/wav2lip_gan.pth'\n",
        "\n",
        "# installing libraries for working with different file formats\n",
        "!pip install ffmpeg-python\n",
        "!pip install librosa==0.9.1\n",
        "\n",
        "#installing requirements.txt\n",
        "!cd Wav2Lip && pip install -r requirements.txt\n",
        "\n",
        "# download the pretrained face model\n",
        "!wget \"https://www.adrianbulat.com/downloads/python-fan/s3fd-619a316812.pth\" -O \"/content/face_detection/detection/sfd/s3fd.pth\"\n",
        "\n",
        "# For output\n",
        "from IPython.display import HTML, Audio\n",
        "from base64 import b64decode\n",
        "\n",
        "import ffmpeg"
      ],
      "metadata": {
        "id": "QAMZ2DWGdkTj"
      },
      "execution_count": null,
      "outputs": []
    },
    {
      "cell_type": "markdown",
      "source": [
        "# **Upload video and audio**"
      ],
      "metadata": {
        "id": "P3aFQsevfYpP"
      }
    },
    {
      "cell_type": "code",
      "source": [
        "# uploading data to colab environment\n",
        "%cd sample_data/\n",
        "from google.colab import files\n",
        "uploaded = files.upload()\n",
        "%cd .."
      ],
      "metadata": {
        "id": "O2a44hJfe17Q"
      },
      "execution_count": null,
      "outputs": []
    },
    {
      "cell_type": "markdown",
      "source": [
        "# **Creating wav2lip video**"
      ],
      "metadata": {
        "id": "YIlrnY0SjxWf"
      }
    },
    {
      "cell_type": "code",
      "source": [
        "# using wav2lip GAN\n",
        "!cd Wav2Lip && python inference.py --checkpoint_path checkpoints/wav2lip_gan.pth --face /content/sample_data/output_video_720p.mp4 --audio /content/sample_data/output10.wav"
      ],
      "metadata": {
        "id": "SCgWvZFjf01l"
      },
      "execution_count": null,
      "outputs": []
    },
    {
      "cell_type": "code",
      "source": [
        "# visualizing here\n",
        "from IPython.display import HTML\n",
        "from base64 import b64encode\n",
        "mp4 = open('/content/Wav2Lip/results/result_voice.mp4','rb').read()\n",
        "data_url = \"data:video/mp4;base64,\" + b64encode(mp4).decode()\n",
        "HTML(f\"\"\"\n",
        "<video width=\"100%\" height=\"100%\" controls>\n",
        "      <source src=\"{data_url}\" type=\"video/mp4\">\n",
        "</video>\"\"\")"
      ],
      "metadata": {
        "id": "FYMD1335Ggtu"
      },
      "execution_count": null,
      "outputs": []
    }
  ]
}